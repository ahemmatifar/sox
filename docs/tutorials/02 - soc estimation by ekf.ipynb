{
 "cells": [
  {
   "cell_type": "markdown",
   "id": "ad2e84f80c47d1c0",
   "metadata": {
    "collapsed": false
   },
   "source": [
    "# SOC Estimation with EKF\n",
    "This notebook demonstrates the use of the extended Kalman filter (EKF) for state of charge (SOC) estimation. The EKF is a nonlinear state estimator that can be used to estimate the SOC of a battery. "
   ]
  },
  {
   "cell_type": "markdown",
   "source": [
    "## Theory\n",
    "\n",
    "### Thevenin Model\n",
    "The EKF works by linearizing the nonlinear system model, which in this case, is isothermal Thevenin model defined by the following equation. For simplicity, equations for a single RC pair are shown.\n",
    "\n",
    "$$\\begin{aligned}\n",
    "\\left[\\begin{array}{c}\n",
    "\\mathrm{SOC}_{k+1} \\\\\n",
    "V_{\\mathrm{rc}_{1}, k+1}\n",
    "\\end{array}\\right] &=\\left[\\begin{array}{cc}\n",
    "1 & 0 \\\\\n",
    "0 & exp\\left(-\\frac{\\Delta t}{R_{1} C_{1}}\\right)\n",
    "\\end{array}\\right]\\left[\\begin{array}{c}\n",
    "\\mathrm{SOC}_{k} \\\\\n",
    "V_{\\mathrm{rc}_{1}, k}\n",
    "\\end{array}\\right]+\\left[\\begin{array}{c}\n",
    "\\frac{\\Delta t}{Q} \\\\\n",
    "0\n",
    "\\end{array}\\right] I_{k} \\\\\n",
    "V_{\\mathrm{cell}, k} &=\\mathrm{OCV}\\left(\\mathrm{SOC}_{k}\\right)-R_{1} I_{k}-V_{\\mathrm{rc}_{1}, k}\n",
    "\\end{aligned}$$\n",
    "\n",
    "where $\\mathrm{SOC}$ is the state of charge, $Q$ is the capacity, $I$ is the current, $V_{\\mathrm{cell}}$ is the cell voltage, $V_{\\mathrm{rc}_1}$ is the voltage across the resistor-capacitor pair, $C_1$ is the capacitance, and $R_1$ is the resistance. \n",
    "\n",
    "### Extended Kalman Filter\n",
    "The EKF linearizes the system model by using the first-order Taylor series expansion of the nonlinear system model about the current state estimate $\\mathbf{x}_{k}$ and the current measurement $\\mathbf{z}_{k}$. As a result, EKF is a recursive estimator that uses the current state estimate $\\mathbf{x}_{k}$ and the current measurement $\\mathbf{z}_{k}$ to compute the next state estimate $\\mathbf{x}_{k+1}$. \n",
    "\n",
    "The EKF is a two-step process: prediction and update. The prediction step uses the state transition matrix $\\mathbf{F}_{k}$ to propagate the state estimate forward in time. The update step uses the measurement matrix $\\mathbf{H}_{k}$ to update the state estimate based on the measurement. The EKF is an optimal estimator in the sense that it minimizes the mean squared error between the true state and the estimated state. The EKF is defined by the following equations:\n",
    "\n",
    "Prediction step:\n",
    "\n",
    "$$\\begin{aligned}\n",
    "\\mathbf{x}_{k} &= \\mathbf{F}_{k} \\mathbf{x}_{k-1} + \\mathbf{B}_{k} \\mathbf{u}_{k} \\\\\n",
    "\\mathbf{P}_{k} &= \\mathbf{F}_{k} \\mathbf{P}_{k-1} \\mathbf{F}_{k}^{T} + \\mathbf{Q}_{k}\n",
    "\\end{aligned}$$\n",
    "\n",
    "Update step:\n",
    "\n",
    "$$\\begin{aligned}\n",
    "\\mathbf{K}_{k} &=\\mathbf{P}_{k} \\mathbf{H}_{k}^{T}\\left(\\mathbf{H}_{k} \\mathbf{P}_{k} \\mathbf{H}_{k}^{T}+\\mathbf{R}_{k}\\right)^{-1} \\\\\n",
    "\\mathbf{x}_{k} &=\\mathbf{x}_{k}+\\mathbf{K}_{k}\\left(\\mathbf{z}_{k}-\\mathbf{h}\\left(\\mathbf{x}_{k}\\right)\\right) \\\\\n",
    "\\mathbf{P}_{k} &=\\left(\\mathbf{I}-\\mathbf{K}_{k} \\mathbf{H}_{k}\\right) \\mathbf{P}_{k}\n",
    "\\end{aligned}$$\n",
    "\n",
    "where $\\mathbf{x}_{k}$ is the state vector, $\\mathbf{u}_{k}$ is the input vector, $\\mathbf{z}_{k}$ is the measurement vector, $\\mathbf{F}_{k}$ is the state transition matrix, $\\mathbf{h}$ is the measurement function, $\\mathbf{H}_{k}=\\frac{\\partial \\mathbf{h}}{\\partial \\mathbf{x}}\\left(\\mathbf{x}_{k}\\right)$ is the measurement Jacobian matrix, $\\mathbf{P}_{k}$ is the covariance matrix, $\\mathbf{Q}_{k}$ is the process noise covariance matrix, and $\\mathbf{R}_{k}$ is the measurement noise covariance matrix. \n",
    "\n",
    "For an isothermal Thevenin model, the EKF is defined by the following equations:\n",
    "\n",
    "\n",
    "<div align=\"center\">\n",
    "\n",
    "| Variable                                       | Equation                                                                                                                    |\n",
    "|------------------------------------------------|-----------------------------------------------------------------------------------------------------------------------------|\n",
    "| State Vector ($\\mathbf{x}_{k}$)                | $\\begin{bmatrix} \\mathrm{SOC}_{k} & V_{\\mathrm{rc}_{1} , k} \\end{bmatrix}^T$                                                |\n",
    "| Input Vector ($\\mathbf{u}_{k}$)                | $I_{k}$                                                                                                                     |\n",
    "| Measurement Vector ($\\mathbf{z}_{k}$)          | $V_{\\mathrm{cell}, k}$                                                                                                      |\n",
    "| State Transition Matrix ($\\mathbf{F}_{k}$)     | $\\begin{bmatrix} 1 & 0 \\\\ 0 & \\exp\\left(-\\frac{\\Delta t}{R_{1} C_{1}}\\right) \\end{bmatrix}$                                 |\n",
    "| Input Matrix ($\\mathbf{B}_{k}$)                | $\\begin{bmatrix} \\frac{\\Delta t}{Q} & 0 \\end{bmatrix}^T$                                                                    |\n",
    "| Measurement Function ($\\mathbf{h}$)            | $\\mathrm{OCV}\\left(\\mathrm{SOC}_{k}\\right)-R_{1} I_{k}-V_{\\mathrm{rc}_{1}, k}$                                              |\n",
    "| Measurement Jacobian Matrix ($\\mathbf{H}_{k}$) | $\\begin{bmatrix} \\frac{\\partial \\mathrm{OCV}\\left(\\mathrm{SOC}_{k}\\right)}{\\partial \\mathrm{SOC}_{k}} & -1 \\end{bmatrix}^T$ |\n",
    "\n",
    "</div>"
   ],
   "metadata": {
    "collapsed": false
   },
   "id": "ad29ab805a3f35ab"
  },
  {
   "cell_type": "code",
   "execution_count": null,
   "id": "initial_id",
   "metadata": {
    "collapsed": false
   },
   "outputs": [],
   "source": [
    "import numpy as np\n",
    "\n",
    "import sox.plant.protocol as protocol\n",
    "from sox.system import IsothermalThevenin\n",
    "from sox.plant import Thevenin, default_thevenin_inputs\n",
    "from sox.sensor import Sensor\n",
    "from sox.filter import ExtendedKalmanFilter\n",
    "from sox.utils import quick_plot"
   ]
  },
  {
   "cell_type": "markdown",
   "id": "d578b22b816281cf",
   "metadata": {
    "collapsed": false
   },
   "source": [
    "## Synthetic Data\n",
    "We use Thevenin model with thermal effects to generate synthetic data. The Thevenin model is a simple equivalent circuit model that can be used to simulate the behavior of a battery, as described above. \n",
    "\n",
    "Note that the model used here has 1-RC pair with current and temperature dependent circuit parameters. However, as we shall see later on, thh EKF uses an iso-thermal 1-RC Thevenin model with constant circuit parameters.\n",
    "\n",
    "We then use `solve` method to simulate a `dst_schedule` protocol and then use utility function `quick_plot` to plot the synthetic data."
   ]
  },
  {
   "cell_type": "code",
   "execution_count": null,
   "id": "81b174f0e812ebf4",
   "metadata": {
    "collapsed": false
   },
   "outputs": [],
   "source": [
    "battery = Thevenin(default_thevenin_inputs)\n",
    "\n",
    "dt = 1.0\n",
    "solution = battery.solve(protocol.dst_schedule(peak_power=180, number_of_cycles=12, sampling_time_s=dt))\n",
    "\n",
    "time = solution.time\n",
    "voltage = solution.voltage\n",
    "current = solution.current\n",
    "soc = solution.soc\n",
    "cell_temperature = solution.cell_temperature\n",
    "\n",
    "quick_plot(\n",
    "    time=[time],\n",
    "    data=[voltage, current, cell_temperature, soc],\n",
    "    legends=[\"voltage\", \"current\", \"temperature\", \"soc\"],\n",
    "    x_labels=\"Time (s)\",\n",
    "    y_labels=[\"Voltage (V)\", \"Current (A)\", \"Temperature (degC)\", \"SOC\"],\n",
    ")"
   ]
  },
  {
   "cell_type": "markdown",
   "id": "86d3d277d5a04e6b",
   "metadata": {
    "collapsed": false
   },
   "source": [
    "## State Estimator\n",
    "\n",
    "We here set up the dynamic system and corresponding EKF observer. The design choices are\n",
    "1. Isothermal and 1-RC Thevenin model\n",
    "2. Time-invariant model parameters and state transition matrices ($\\mathbf{F}$ and $\\mathbf{B}$)\n",
    "3. Constant process and measurement noise covariance matrices ($\\mathbf{Q}$ and $\\mathbf{R}$)"
   ]
  },
  {
   "cell_type": "code",
   "execution_count": null,
   "id": "bec37bf46e8b08a1",
   "metadata": {
    "collapsed": false
   },
   "outputs": [],
   "source": [
    "system = IsothermalThevenin(\n",
    "    ocv_func=default_thevenin_inputs.open_circuit_voltage,\n",
    "    series_resistance=4e-3,  # true value: soc-dependent\n",
    "    rc_resistors=[7e-3],  # true value: soc-dependent\n",
    "    rc_capacitors=[8e3],  # true value: soc-dependent\n",
    "    capacity=10,  # real value: 10\n",
    ")\n",
    "\n",
    "ekf = ExtendedKalmanFilter(\n",
    "    F=system.F(dt),  # state transition matrix\n",
    "    B=system.B(dt),  # input matrix\n",
    "    Q=np.diag([0.01**2, 0.1**2]),  # process noise\n",
    "    R=1e-5,  # measurement noise\n",
    "    x0=np.array([0.75, 0.0]),  # initial states [soc, v_rc1]\n",
    "    P0=np.diag([1e-5, 1]),  # initial covariance of states\n",
    ")"
   ]
  },
  {
   "cell_type": "markdown",
   "id": "b415705fc29d6e68",
   "metadata": {
    "collapsed": false
   },
   "source": [
    "## Sensors\n",
    "\n",
    "Each state estimator requires sensor readings as inputs. Here we set up the sensors to read the voltage and current data generated above. For simplicity, we assume that the sensors are perfect without faults or noise. We will study the effect of sensor noise on state estimation in a future tutorial."
   ]
  },
  {
   "cell_type": "code",
   "execution_count": null,
   "id": "f3e31235799c9b07",
   "metadata": {
    "collapsed": false
   },
   "outputs": [],
   "source": [
    "voltage_sensor = Sensor(name=\"voltage\", time=time, data=voltage)\n",
    "current_sensor = Sensor(name=\"current\", time=time, data=current)"
   ]
  },
  {
   "cell_type": "markdown",
   "id": "4c807d739b967685",
   "metadata": {
    "collapsed": false
   },
   "source": [
    "## Run Estimation\n",
    "\n",
    "We are now ready to run the state estimation. We first reset the sensors and the state estimator. Then we loop through the data and update the state estimator with the sensor readings. The state estimator returns the estimated SOC and the covariance of the SOC estimate. We store the SOC estimate and the SOC estimate covariance for later use."
   ]
  },
  {
   "cell_type": "code",
   "execution_count": null,
   "id": "f5be7d8bb5904ef8",
   "metadata": {
    "collapsed": false
   },
   "outputs": [],
   "source": [
    "v_sense = []\n",
    "curr_sense = []\n",
    "soc_ekf, soc_ekf_std, vrc_ekf_std = [], [], []\n",
    "\n",
    "voltage_sensor.reset()\n",
    "current_sensor.reset()\n",
    "ekf.reset()\n",
    "\n",
    "for _ in time:\n",
    "    # sensor readings\n",
    "    voltage_reading = voltage_sensor.read()\n",
    "    current_reading = current_sensor.read()\n",
    "\n",
    "    # extended kalman filter\n",
    "    ekf.predict(u=current_reading)\n",
    "    ekf.update(\n",
    "        z=voltage_reading,\n",
    "        hx=system.hx,\n",
    "        hx_args=current_reading,\n",
    "        h_jacobian=system.h_jacobian,\n",
    "    )\n",
    "\n",
    "    # store states and sensor readings\n",
    "    soc_ekf.append(ekf.x[0, 0])\n",
    "    soc_ekf_std.append(np.sqrt(ekf.P[0, 0]))\n",
    "    vrc_ekf_std.append(np.sqrt(ekf.P[1, 1]))\n",
    "\n",
    "    v_sense.append(voltage_reading)\n",
    "    curr_sense.append(current_reading)"
   ]
  },
  {
   "cell_type": "markdown",
   "id": "e640f60de6fdc418",
   "metadata": {
    "collapsed": false
   },
   "source": [
    "## Plot Results\n",
    "\n",
    "We now use `quick_plot` to plot the results. The true and (fault-less and noise-less) sensor readings, estimated states and statistics are plotted."
   ]
  },
  {
   "cell_type": "code",
   "execution_count": null,
   "id": "f205d439b29e4a70",
   "metadata": {
    "collapsed": false
   },
   "outputs": [],
   "source": [
    "quick_plot(\n",
    "    time=[time],\n",
    "    data=[[voltage, v_sense], [current, curr_sense], [soc, soc_ekf], [soc - soc_ekf], [soc_ekf_std], [vrc_ekf_std]],\n",
    "    legends=[\n",
    "        [\"true value\", \"sensor reading\"],\n",
    "        [\"true value\", \"sensor reading\"],\n",
    "        [\"true SOC\", \"EKF SOC\"],\n",
    "        [\"SOC error\"],\n",
    "        [\"SOC standard deviation\"],\n",
    "        [\"Vrc1 standard deviation\"],\n",
    "    ],\n",
    "    x_labels=\"Time (s)\",\n",
    "    y_labels=[\n",
    "        \"Voltage (V)\",\n",
    "        \"Current (A)\",\n",
    "        \"SOC\",\n",
    "        \"SOC error\",\n",
    "        \"SOC standard deviation\",\n",
    "        \"Vrc1 standard deviation (V)\",\n",
    "    ],\n",
    "    n_cols=3,\n",
    ")"
   ]
  },
  {
   "cell_type": "markdown",
   "source": [
    "We see that EKF (even with isothermal and time-invariant model parameters) does a decent job estimating SOC, but there are a number of issues with our setup that can be improved: the SOC convergence is slow (around 30 min), state estimation confidence is low (note SOC and Vc1 standard deviations of around 0.3 and 0.2V, respectively), and deterioration of state estimate at low SOC regions (around 0.1 and below).\n",
    "\n",
    "These will be a topic of discussion in future tutorials, where we will explore how to improve the state estimation performance by tuning the EKF parameters and using more sophisticated models."
   ],
   "metadata": {
    "collapsed": false
   },
   "id": "e7385a3e0bc7278f"
  }
 ],
 "metadata": {
  "kernelspec": {
   "display_name": "Python 3 (ipykernel)",
   "language": "python",
   "name": "python3"
  },
  "language_info": {
   "codemirror_mode": {
    "name": "ipython",
    "version": 3
   },
   "file_extension": ".py",
   "mimetype": "text/x-python",
   "name": "python",
   "nbconvert_exporter": "python",
   "pygments_lexer": "ipython3",
   "version": "3.11.0"
  }
 },
 "nbformat": 4,
 "nbformat_minor": 5
}
