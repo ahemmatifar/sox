{
 "cells": [
  {
   "cell_type": "markdown",
   "id": "efca4517a666fded",
   "metadata": {},
   "source": [
    "# Battery Cycling Simulations\n",
    "\n",
    "This notebook demonstrates how to use the Thevenin model to simulate a variety of cycling experiments that are implemented in SOX. The Thevenin battery model uses [PyBaMM](https://docs.pybamm.org/en/latest/index.html) in the backend, and adds abstractions for easier user interface.\n",
    "\n",
    "Simply put, Thevenin model is a simple electrical representation of a battery cell with a voltage source and one or more RC branches, as outlined in the equations below. SOX provides a simple interface to create an ECM model using [`Thevenin`](https://sox.readthedocs.io/en/latest/autoapi/sox/plant/thevenin/model/index.html) class, and then use it to simulate a variety of cycling experiments using the `solve` method."
   ]
  },
  {
   "cell_type": "code",
   "execution_count": null,
   "id": "62a046fa6e769518",
   "metadata": {},
   "outputs": [],
   "source": [
    "from sox.plant import Thevenin, default_thevenin_inputs\n",
    "import sox.plant.protocol as protocol\n",
    "from sox.utils import quick_plot"
   ]
  },
  {
   "cell_type": "markdown",
   "id": "d0d219cf",
   "metadata": {},
   "source": [
    "# Thevenin Model\n",
    "\n",
    "To create a `Thevenin` model, we need to provide a set of [input parameters](https://sox.readthedocs.io/en/latest/autoapi/sox/plant/thevenin/parameters/index.html#sox.plant.thevenin.parameters.Inputs) to it. To help with this, SOX implements a set of [default input](https://sox.readthedocs.io/en/latest/autoapi/sox/plant/thevenin/default/inputs/index.html) parameters that you can import as `default_thevenin_inputs`. These parameters are based on PyBaMM's default parameters for ECM."
   ]
  },
  {
   "cell_type": "code",
   "execution_count": null,
   "id": "fb2a6c89b02f1282",
   "metadata": {},
   "outputs": [],
   "source": [
    "# changes default initial soc\n",
    "default_thevenin_inputs.initial_soc = 0.5\n",
    "\n",
    "# builds a battery equivalent circuit model\n",
    "battery = Thevenin(default_thevenin_inputs)"
   ]
  },
  {
   "cell_type": "markdown",
   "id": "ca5d28af8a9666e3",
   "metadata": {},
   "source": [
    "## Cycling Protocols\n",
    "There are a handful of cycling protocols that are implemented in the [`protocol`](https://sox.readthedocs.io/en/latest/autoapi/sox/plant/protocol/index.html) module. These protocols are used to simulate the cycling experiments. The protocols are: \n",
    "\n",
    "- `cc_charge_cv_rest` (CC charge, CV hold, then rest)\n",
    "- `cc_discharge_rest` (CC discharge then rest)\n",
    "- `charge_discharge_cycling` (combination of 1+2 with multiple cycles)\n",
    "- `single_pulse` (CC charge or discharge pulse, then rest)\n",
    "- `single_pulse_train` (a train of CC pulses with a single C rate, then rest)\n",
    "- `multi_pulse_train` (a train of CC pulses with multiple C rates, then rest)\n",
    "- `dst_schedule` (dynamic stress test schedule)"
   ]
  },
  {
   "cell_type": "code",
   "execution_count": null,
   "id": "00e5c76c",
   "metadata": {},
   "outputs": [],
   "source": [
    "experiments = [\n",
    "    # 1. constant current then constant voltage charge, then rest\n",
    "    protocol.cc_charge_cv_rest(c_rate=2.0, cv_hold_c_rate_limit=1 / 6, rest_time_h=0.1),\n",
    "    # 2. constant current discharge, then rest\n",
    "    protocol.cc_discharge_rest(),\n",
    "    # 3. constant current charge and discharge cycling\n",
    "    protocol.charge_discharge_cycling(direction=\"charge\", number_of_cycles=3),\n",
    "    # 4. constant current discharge pulse, then rest\n",
    "    protocol.single_pulse(direction=\"discharge\", c_rate=2.0, pulse_time_sec=60, pulse_rest_time_sec=120),\n",
    "    # 5. one type of constant current discharge pulses back-to-back, with rest in between\n",
    "    protocol.single_pulse_train(direction=\"discharge\", number_of_pulses=15),\n",
    "    # 6. two types of constant current discharge pulses back-to-back, with rest in between\n",
    "    protocol.multi_pulse_train(\n",
    "        direction=[\"discharge\", \"discharge\"],\n",
    "        c_rate=[1.0, 0.2],\n",
    "        pulse_time_sec=[60, 600],\n",
    "        pulse_rest_time_sec=[600, 600],\n",
    "        number_of_pulses=9,\n",
    "    ),\n",
    "    # 7. three types of constant current charge and discharge pulses back-to-back, with rest in between\n",
    "    protocol.multi_pulse_train(\n",
    "        direction=[\"discharge\", \"charge\", \"discharge\"],\n",
    "        c_rate=[1.0, 1.0, 0.2],\n",
    "        pulse_time_sec=[60, 60, 600],\n",
    "        pulse_rest_time_sec=[600, 600, 600],\n",
    "        number_of_pulses=10,\n",
    "    ),\n",
    "    # 8. DST (dynamic stress test) protocol\n",
    "    protocol.dst_schedule(\n",
    "        peak_power=3.8 * (6 * 10),\n",
    "        number_of_cycles=5,\n",
    "        sampling_time_s=1,\n",
    "    ),\n",
    "]"
   ]
  },
  {
   "cell_type": "markdown",
   "id": "a563300eddb18e12",
   "metadata": {},
   "source": [
    "## Perform Simulations\n",
    "\n",
    "We here simulate battery response by passing experiments to the `battery` object as in `battery.solve(experiment)`. \n",
    "\n",
    "The result is a simulation [`Output`](https://sox.readthedocs.io/en/latest/autoapi/sox/plant/thevenin/parameters/index.html#sox.plant.thevenin.parameters.Outputs) object with the following properties: `time`, `voltage`, `rc_voltage`, `ocv`, `current`,\n",
    "`power`, `resistance`, `series_resistance`, `rc_resistance`, `rc_capacitance`, `soc`, `ambient_temperature`,\n",
    "`cell_temperature`, `jig_temperature`"
   ]
  },
  {
   "cell_type": "code",
   "execution_count": null,
   "id": "bf1d630711d92a84",
   "metadata": {},
   "outputs": [],
   "source": [
    "# simulates the experiments\n",
    "solutions = [battery.solve(e) for e in experiments]"
   ]
  },
  {
   "cell_type": "markdown",
   "id": "cdc55422d1c70869",
   "metadata": {},
   "source": [
    "## Compare Results\n",
    "\n",
    "Utility function `quick_plot` can be used to create interactive graphs of electrical and thermal battery parameters."
   ]
  },
  {
   "cell_type": "code",
   "execution_count": null,
   "id": "e0516bc73f9bdf3e",
   "metadata": {},
   "outputs": [],
   "source": [
    "# generates voltage profile of all protocols\n",
    "\n",
    "quick_plot(\n",
    "    time=[sol.time for sol in solutions],\n",
    "    data=[sol.voltage for sol in solutions],\n",
    "    titles=[f\"Protocol {j+1}\" for j in range(len(solutions))],\n",
    "    x_labels=\"Time (s)\",\n",
    "    y_labels=\"Voltage (V)\",\n",
    "    n_cols=3,\n",
    ")"
   ]
  },
  {
   "cell_type": "code",
   "execution_count": null,
   "id": "115d2a942c0e2d38",
   "metadata": {},
   "outputs": [],
   "source": [
    "# generates voltage, current, temperature, and soc graphs for a single protocol\n",
    "\n",
    "sol = solutions[2]\n",
    "quick_plot(\n",
    "    time=[sol.time],\n",
    "    data=[[sol.ocv, sol.voltage], sol.current, [sol.cell_temperature, sol.jig_temperature], sol.soc],\n",
    "    legends=[[\"OCV\", \"voltage\"], \"current\", [\"cell\", \"jig\"], \"soc\"],\n",
    "    x_labels=\"Time (s)\",\n",
    "    y_labels=[\"Voltage (V)\", \"Current (A)\", \"Temperature (degC)\", \"SOC\"],\n",
    "    titles=[\"Voltage\", \"Current\", \"Temperature\", \"SOC\"],\n",
    ")"
   ]
  }
 ],
 "metadata": {
  "kernelspec": {
   "display_name": "Python 3 (ipykernel)",
   "language": "python",
   "name": "python3"
  },
  "language_info": {
   "codemirror_mode": {
    "name": "ipython",
    "version": 3
   },
   "file_extension": ".py",
   "mimetype": "text/x-python",
   "name": "python",
   "nbconvert_exporter": "python",
   "pygments_lexer": "ipython3",
   "version": "3.11.0"
  }
 },
 "nbformat": 4,
 "nbformat_minor": 5
}
