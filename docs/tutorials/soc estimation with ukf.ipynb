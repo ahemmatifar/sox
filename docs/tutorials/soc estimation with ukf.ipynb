{
 "cells": [
  {
   "cell_type": "markdown",
   "id": "de6af06dd745450d",
   "metadata": {},
   "source": [
    "# SOC Estimation with UKF\n",
    "This notebook demonstrates the use of the Unscented Kalman Filter (UKF) for estimating the state of charge (SOC) of a lithium-ion battery cell. The UKF is a nonlinear version of the Kalman filter which can estimate the state of a system with nonlinear dynamics. The UKF is a popular choice for SOC estimation because does not require linearization of the battery model."
   ]
  },
  {
   "cell_type": "markdown",
   "id": "14268263d6f3bf6b",
   "metadata": {},
   "source": [
    "## Theory\n",
    "\n",
    "### Unscented Transformation\n",
    "Before we dive into the UKF equations, we need to understand concept of unscented transformation (UT). UT is a method for estimating the mean and covariance of a nonlinear function of a random variable. \n",
    "\n",
    "Consider propagating a random variable $\\mathbf{x}$ through a nonlinear function $\\mathbf{y}=f(\\mathbf{x})$. Assume that $\\mathbf{x}$ (dimension $N$) has a mean $\\mathbf{\\bar{x}}$ and covariance $\\mathbf{P}$. To calculate statistics of $\\mathbf{y}$, we form a set of $2N+1$ sigma points $\\mathbf{X}_{i}$ (details later). The mean and covariance of $\\mathbf{y}$ can then be approximated as:\n",
    "\n",
    "$$\n",
    "\\begin{aligned}\n",
    "\\mathbf{Y}_{i} &=f\\left(\\mathbf{X}_{i}\\right) \\quad i=1, \\ldots, 2 N+1 \\\\\n",
    "\\mathbf{y} &=\\sum_{i=1}^{2 N+1} w_{i}^{m} \\mathbf{Y}_{i} \\\\\n",
    "\\mathbf{P}_{y} &=\\sum_{i=1}^{2 N+1} w_{i}^{c}\\left(\\mathbf{Y}_{i}-\\mathbf{y}\\right)\\left(\\mathbf{Y}_{i}-\\mathbf{y}\\right)^{T}\n",
    "\\end{aligned}\n",
    "$$\n",
    "\n",
    "\n",
    "### Sigma Points\n",
    "The sigma points are formed by adding and subtracting a scaled version of the covariance matrix from the mean. The scaling parameter $\\lambda$ is chosen to ensure that the sigma points are distributed around the mean. The sigma points are defined as follows:\n",
    "\n",
    "$$\\begin{aligned}\n",
    "\\mathbf{X}_{i} &= \\mathbf{x} \\pm \\left(\\sqrt{\\left(N+\\lambda\\right) \\mathbf{P}}\\right)_{i} \\quad i=1, \\ldots, N\n",
    "\\end{aligned}$$\n",
    "    \n",
    "where $N$ is the number of states (with $2N-1$ sigma points), $\\lambda=\\alpha^{2}\\left(N+\\kappa\\right)-N$ is a scaling parameter, $\\alpha$ determines the spread of the sigma points, and $\\kappa$ is a secondary scaling parameter. The weights $w_{i}^{m}$ and $w_{i}^{c}$ are defined as follows:\n",
    "\n",
    "$$\\begin{aligned}\n",
    "w_{i}^{m} &=\\left\\{\\begin{array}{ll}\n",
    "\\frac{\\lambda}{N+\\lambda} & i=1 \\\\\n",
    "\\frac{1}{2(N+\\lambda)} & i=2, \\ldots, 2 N+1\n",
    "\\end{array}\\right. \\\\\n",
    "w_{i}^{c} &=\\left\\{\\begin{array}{ll}\n",
    "\\frac{\\lambda}{N+\\lambda}+\\left(1-\\alpha^{2}+\\beta\\right) & i=1 \\\\\n",
    "\\frac{1}{2(N+\\lambda)} & i=2, \\ldots, 2 N+1\n",
    "\\end{array}\\right.\n",
    "\\end{aligned}$$\n",
    "\n",
    "where $\\beta$ is a secondary scaling parameter. The parameters $\\alpha$, $\\kappa$, and $\\beta$ are chosen to satisfy $\\alpha^{2}>0$, $\\kappa \\geq 0$, and $0 \\leq \\beta \\leq 3-N$. The values $\\alpha=1$, $\\kappa=0$, and $\\beta=2$ are commonly used.\n",
    "\n",
    "\n",
    "### Unscented Kalman Filter\n",
    "Like EKF, UKF employs a two-step process—prediction and update—to estimate a system's state.\n",
    "\n",
    "Utilizing sigma points, the UKF represents the system's state and covariance, predicting the next state by propagating these points through the system model. Subsequently, the predicted sigma points pass through the measurement model to anticipate measurements, which are used to correct the predicted state, yielding the final system state estimate. The UKF is defined by the following equations:\n",
    "\n",
    "Prediction:\n",
    "\n",
    "$$\\begin{aligned}\n",
    "\\mathbf{Y}_{i} &=f\\left(\\mathbf{X}_{i}, \\mathbf{u}_{k-1}\\right) \\quad i=1, \\ldots, 2 n \\\\\n",
    "\\mathbf{x}_{k}^{-} &=\\sum_{i=1}^{2 n} w_{i}^{m} \\mathbf{Y}_{i} \\\\\n",
    "\\mathbf{P}_{k}^{-} &=\\sum_{i=1}^{2 n} w_{i}^{c}\\left(\\mathbf{Y}_{i}-\\mathbf{x}_{k}^{-}\\right)\\left(\\mathbf{Y}_{i}-\\mathbf{x}_{k}^{-}\\right)^{T}+\\mathbf{Q}_{k}\n",
    "\\end{aligned}$$\n",
    "\n",
    "Update:\n",
    "\n",
    "$$\\begin{aligned}\n",
    "\\mathbf{Y}_{i} &=h\\left(\\mathbf{X}_{i}\\right) \\quad i=1, \\ldots, 2 n \\\\\n",
    "\\mathbf{y}_{k} &=\\sum_{i=1}^{2 n} w_{i}^{m} \\mathbf{Y}_{i} \\\\\n",
    "\\mathbf{S}_{k} &=\\sum_{i=1}^{2 n} w_{i}^{c}\\left(\\mathbf{Y}_{i}-\\mathbf{y}_{k}\\right)\\left(\\mathbf{Y}_{i}-\\mathbf{y}_{k}\\right)^{T}+\\mathbf{R}_{k} \\\\\n",
    "\\mathbf{C}_{k} &=\\sum_{i=1}^{2 n} w_{i}^{c}\\left(\\mathbf{X}_{i}-\\mathbf{x}_{k}^{-}\\right)\\left(\\mathbf{Y}_{i}-\\mathbf{y}_{k}\\right)^{T} \\\\\n",
    "\\mathbf{K}_{k} &=\\mathbf{C}_{k} \\mathbf{S}_{k}^{-1} \\\\\n",
    "\\mathbf{x}_{k} &=\\mathbf{x}_{k}^{-}+\\mathbf{K}_{k}\\left(\\mathbf{z}_{k}-\\mathbf{y}_{k}\\right) \\\\\n",
    "\\mathbf{P}_{k} &=\\mathbf{P}_{k}^{-}-\\mathbf{K}_{k} \\mathbf{S}_{k} \\mathbf{K}_{k}^{T}\n",
    "\\end{aligned}$$\n",
    "\n",
    "where $\\mathbf{X}_{i}$ and $\\mathbf{Y}_{i}$ are the sigma points, $\\mathbf{x}_{k}^{-}$ and $\\mathbf{P}_{k}^{-}$ are the predicted state and covariance, $\\mathbf{x}_{k}$ and $\\mathbf{P}_{k}$ are the updated state and covariance, $\\mathbf{Q}_{k}$ and $\\mathbf{R}_{k}$ are the process and measurement noise covariance matrices, $\\mathbf{z}_{k}$ is the measurement vector, $w_{i}^{m}$ and $w_{i}^{c}$ are the weights for the mean and covariance, and $\\mathbf{K}_{k}$ is the Kalman gain."
   ]
  },
  {
   "cell_type": "code",
   "execution_count": null,
   "id": "e000599c21832070",
   "metadata": {},
   "outputs": [],
   "source": [
    "import numpy as np\n",
    "\n",
    "import sox.plant.protocol as protocol\n",
    "from sox.system import IsothermalThevenin\n",
    "from sox.plant import Thevenin, default_thevenin_inputs\n",
    "from sox.sensor import Sensor\n",
    "from sox.filter import (\n",
    "    UnscentedKalmanFilter,\n",
    "    MerweSigmaPoints,\n",
    ")\n",
    "from sox.utils import quick_plot"
   ]
  },
  {
   "cell_type": "markdown",
   "id": "bc880f391cde0afe",
   "metadata": {},
   "source": [
    "## Synthetic Data\n",
    "Similar to EKF tutorial, we use Thevenin model with thermal effects to generate synthetic data."
   ]
  },
  {
   "cell_type": "code",
   "execution_count": null,
   "id": "38b04c6dc1dbade7",
   "metadata": {},
   "outputs": [],
   "source": [
    "battery = Thevenin(default_thevenin_inputs)\n",
    "\n",
    "dt = 1.0\n",
    "solution = battery.solve(protocol.dst_schedule(peak_power=180, number_of_cycles=12, sampling_time_s=dt))\n",
    "\n",
    "time = solution.time\n",
    "voltage = solution.voltage\n",
    "current = solution.current\n",
    "soc = solution.soc\n",
    "cell_temperature = solution.cell_temperature\n",
    "\n",
    "quick_plot(\n",
    "    time=[time],\n",
    "    data=[voltage, current, cell_temperature, soc],\n",
    "    legends=[\"voltage\", \"current\", \"temperature\", \"soc\"],\n",
    "    x_labels=\"Time (s)\",\n",
    "    y_labels=[\"Voltage (V)\", \"Current (A)\", \"Temperature (degC)\", \"SOC\"],\n",
    ")"
   ]
  },
  {
   "cell_type": "markdown",
   "id": "2cac04ba3164c442",
   "metadata": {},
   "source": [
    "## State Estimator\n",
    "\n",
    "We here set up the dynamic system and corresponding UKF observer. The design choices are\n",
    "1. Isothermal and 1-RC Thevenin model\n",
    "2. Time-invariant model parameters and state transition matrices ($\\mathbf{F}$ and $\\mathbf{B}$)\n",
    "3. Constant process and measurement noise covariance matrices ($\\mathbf{Q}$ and $\\mathbf{R}$)"
   ]
  },
  {
   "cell_type": "code",
   "execution_count": null,
   "id": "47e4f02d22545434",
   "metadata": {},
   "outputs": [],
   "source": [
    "system = IsothermalThevenin(\n",
    "    ocv_func=default_thevenin_inputs.open_circuit_voltage,\n",
    "    series_resistance=4e-3,  # true value: soc-dependent\n",
    "    rc_resistors=[7e-3],  # true value: soc-dependent\n",
    "    rc_capacitors=[8e3],  # true value: soc-dependent\n",
    "    capacity=10,  # real value: 10\n",
    ")\n",
    "\n",
    "ukf = UnscentedKalmanFilter(\n",
    "    Q=np.diag([0.01**2, 0.1**2]),\n",
    "    R=1e-5,\n",
    "    x0=np.array([0.75, 0.0]),\n",
    "    P0=np.diag([1e-5, 1]),\n",
    "    sigma_gen=MerweSigmaPoints(n=2, alpha=1e-4, beta=2.0, kappa=0.0),\n",
    ")"
   ]
  },
  {
   "cell_type": "markdown",
   "id": "e9a8fce4759544a6",
   "metadata": {},
   "source": [
    "## Sensors\n",
    "\n",
    "Each state estimator requires sensor readings as inputs. Here we set up the sensors to read the voltage and current data generated above. For simplicity, we assume that the sensors are perfect without faults or noise. We will study the effect of sensor noise on state estimation in a future tutorial."
   ]
  },
  {
   "cell_type": "code",
   "execution_count": null,
   "id": "7a55c16e59b9c19c",
   "metadata": {},
   "outputs": [],
   "source": [
    "voltage_sensor = Sensor(name=\"voltage\", time=time, data=voltage)\n",
    "current_sensor = Sensor(name=\"current\", time=time, data=current)"
   ]
  },
  {
   "cell_type": "markdown",
   "id": "a8df1698738584e1",
   "metadata": {},
   "source": [
    "## Run Estimation\n",
    "\n",
    "We are now ready to run the state estimation. We first reset the sensors and the state estimator. Then we loop through the data and update the state estimator with the sensor readings. The state estimator returns the estimated SOC and the covariance of the SOC estimate. We store the SOC estimate and the SOC estimate covariance for later use."
   ]
  },
  {
   "cell_type": "code",
   "execution_count": null,
   "id": "1a30bbacfd61f9c8",
   "metadata": {},
   "outputs": [],
   "source": [
    "v_sense = []\n",
    "curr_sense = []\n",
    "soc_ukf, soc_ukf_std, vrc_ukf_std = [], [], []\n",
    "\n",
    "voltage_sensor.reset()\n",
    "current_sensor.reset()\n",
    "ukf.reset()\n",
    "\n",
    "for _ in time:\n",
    "    # sensor readings\n",
    "    voltage_reading = voltage_sensor.read()\n",
    "    current_reading = current_sensor.read()\n",
    "\n",
    "    # extended kalman filter\n",
    "    ukf.predict(fx=system.fx, fx_args=(current_reading, dt))\n",
    "    ukf.update(\n",
    "        z=voltage_reading,\n",
    "        hx=system.hx,\n",
    "        hx_args=current_reading,\n",
    "    )\n",
    "\n",
    "    # store states and sensor readings\n",
    "    soc_ukf.append(ukf.x[0, 0])\n",
    "    soc_ukf_std.append(np.sqrt(ukf.P[0, 0]))\n",
    "    vrc_ukf_std.append(np.sqrt(ukf.P[1, 1]))\n",
    "\n",
    "    v_sense.append(voltage_reading)\n",
    "    curr_sense.append(current_reading)"
   ]
  },
  {
   "cell_type": "markdown",
   "id": "87d56333f72ea831",
   "metadata": {},
   "source": [
    "## Plot Results\n",
    "\n",
    "We now use `quick_plot` to plot the results. The true and (fault-less and noise-less) sensor readings, estimated states and statistics are plotted."
   ]
  },
  {
   "cell_type": "code",
   "execution_count": null,
   "id": "eedb9e5d07b5a81c",
   "metadata": {},
   "outputs": [],
   "source": [
    "quick_plot(\n",
    "    time=[time],\n",
    "    data=[[voltage, v_sense], [current, curr_sense], [soc, soc_ukf], [soc - soc_ukf], [soc_ukf_std], [vrc_ukf_std]],\n",
    "    legends=[\n",
    "        [\"true value\", \"sensor reading\"],\n",
    "        [\"true value\", \"sensor reading\"],\n",
    "        [\"true SOC\", \"UKF SOC\"],\n",
    "        [\"SOC error\"],\n",
    "        [\"SOC standard deviation\"],\n",
    "        [\"Vrc1 standard deviation\"],\n",
    "    ],\n",
    "    x_labels=\"Time (s)\",\n",
    "    y_labels=[\n",
    "        \"Voltage (V)\",\n",
    "        \"Current (A)\",\n",
    "        \"SOC\",\n",
    "        \"SOC error\",\n",
    "        \"SOC standard deviation\",\n",
    "        \"Vrc1 standard deviation (V)\",\n",
    "    ],\n",
    "    n_cols=3,\n",
    ")"
   ]
  },
  {
   "cell_type": "markdown",
   "id": "71b213efd87d31d3",
   "metadata": {},
   "source": [
    "With the choices of sigma point parameters, we see that the UKF performs similar to the EKF, but with a few differences. For example, the SOC estimate covariance is smaller. The smoother SOC estimate is due to the fact that the UKF does not require linearization of the battery model, which is a source of error in the EKF. The smaller SOC estimate covariance is due to the fact that the UKF uses sigma points to approximate the state distribution, which is more accurate than the linearization used in the EKF."
   ]
  }
 ],
 "metadata": {
  "kernelspec": {
   "display_name": "Python 3",
   "language": "python",
   "name": "python3"
  },
  "language_info": {
   "codemirror_mode": {
    "name": "ipython",
    "version": 2
   },
   "file_extension": ".py",
   "mimetype": "text/x-python",
   "name": "python",
   "nbconvert_exporter": "python",
   "pygments_lexer": "ipython2",
   "version": "2.7.6"
  }
 },
 "nbformat": 4,
 "nbformat_minor": 5
}
